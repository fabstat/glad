{
 "cells": [
  {
   "cell_type": "code",
   "execution_count": null,
   "id": "2cff83ff-25f5-49cd-9e2f-24acb4225c9c",
   "metadata": {},
   "outputs": [],
   "source": [
    "from glob import glob\n",
    "from pathlib import Path\n",
    "import os\n",
    "import re\n",
    "import pickle\n",
    "import numpy as np\n",
    "import matplotlib.pyplot as plt"
   ]
  },
  {
   "cell_type": "code",
   "execution_count": null,
   "id": "ce6a5c84-5dcc-4fee-b3da-e0ff4a6a2d9f",
   "metadata": {},
   "outputs": [],
   "source": [
    "# def make_predict(path):  \n",
    "#     feats = {}\n",
    "#     for file in Path(path).glob(\"*.txt\"):\n",
    "#         feats = np.loadtxt(file)\n",
    "#         if len(feats.shape) > 1:\n",
    "#             np.savetxt(f\"./chem_data/to_predict/{file.name}\", feats[:2,:])\n",
    "#         else: \n",
    "#             np.savetxt(f\"./chem_data/to_predict/{file.name}\", feats[:2])"
   ]
  },
  {
   "cell_type": "code",
   "execution_count": null,
   "id": "eb5361bf-3ce7-4dd6-a507-2f54baa7c789",
   "metadata": {},
   "outputs": [],
   "source": [
    "# path = \"./chem_data/processed_output_some/0001_simple_cond/\"\n",
    "# make_predict(path)"
   ]
  },
  {
   "cell_type": "code",
   "execution_count": null,
   "id": "a226f61d-c9f7-439a-a840-df4ed74179eb",
   "metadata": {},
   "outputs": [],
   "source": [
    "# !python -m chem_data.chemgns --action='predict' --raw_data_path=\"./chem_data/to_predict\"  --preped_data_path=\"./gns/prepared_topredict/\""
   ]
  },
  {
   "cell_type": "code",
   "execution_count": null,
   "id": "cd521707-dea0-4358-8f7d-207961a1cff2",
   "metadata": {},
   "outputs": [],
   "source": [
    "# !python -m gns.train --mode=\"predict\" --data_path=\"./gns/prepared_topredict/\" --model_path=\"./gns/model/\" --output_path=\"./gns/predicted_rollout\" --model_file=\"model-300.pt\" --train_state_file=\"train_state-300.pt\""
   ]
  },
  {
   "cell_type": "markdown",
   "id": "be03e9e5-e944-4bf8-9bae-818255ac409c",
   "metadata": {},
   "source": [
    "# Check Results"
   ]
  },
  {
   "cell_type": "code",
   "execution_count": null,
   "id": "313920be-3958-4eda-b9cd-af25d6dbe261",
   "metadata": {},
   "outputs": [],
   "source": [
    "import chem_data.analyze_results as ar"
   ]
  },
  {
   "cell_type": "code",
   "execution_count": null,
   "id": "751e9282-ff3e-40e9-8b95-0ebb7c05c58a",
   "metadata": {},
   "outputs": [],
   "source": [
    "rollout_results = \"./chem_data/proc_data/Scenario2-rep3/\""
   ]
  },
  {
   "cell_type": "code",
   "execution_count": null,
   "id": "177359e3-a967-49fa-be80-379b8635a787",
   "metadata": {},
   "outputs": [],
   "source": [
    "rollout_data = ar.load_rollout_data(rollout_results)"
   ]
  },
  {
   "cell_type": "code",
   "execution_count": null,
   "id": "bb9fa3c9-e607-48d5-9f79-40033bccc593",
   "metadata": {},
   "outputs": [],
   "source": [
    "ro = rollout_data['rollout_ex00_dict.pkl']"
   ]
  },
  {
   "cell_type": "code",
   "execution_count": null,
   "id": "20b21412-d73f-40ca-98cd-dbb82d0ab3a7",
   "metadata": {},
   "outputs": [],
   "source": [
    "true_x = ro['true_x']\n",
    "pred_x = ro['pred_x']\n",
    "mat_prop = ro['mat_prop']"
   ]
  },
  {
   "cell_type": "code",
   "execution_count": null,
   "id": "8ab72f3e-1548-491c-b35c-52c16dd65e17",
   "metadata": {},
   "outputs": [],
   "source": [
    "true_x.keys()"
   ]
  },
  {
   "cell_type": "code",
   "execution_count": null,
   "id": "6fe44354-f624-4565-bc0d-81ea06a3e98e",
   "metadata": {},
   "outputs": [],
   "source": [
    "# Plot trajectories\n",
    "plt.figure(figsize=(10, 6))\n",
    "plt.plot(true_x['SO4'])\n",
    "\n",
    "# Add labels and title\n",
    "plt.xlabel('Timestep')\n",
    "plt.ylabel('Mass of SO$_4$')\n",
    "plt.title('True SO$_4$ Mass Trajectories Over Time')\n",
    "\n",
    "# Add legend for trajectories\n",
    "plt.plot([], [], color='gray', label='Trajectory for particle $p$')\n",
    "plt.legend(loc='upper left', frameon=True)\n",
    "\n",
    "# Show plot\n",
    "plt.grid(True)\n",
    "plt.savefig(\"trueso4rep3.png\")"
   ]
  },
  {
   "cell_type": "code",
   "execution_count": null,
   "id": "a3092b38-6b7a-43b0-acc9-6112416f2cbb",
   "metadata": {},
   "outputs": [],
   "source": [
    "# Plot trajectories\n",
    "plt.figure(figsize=(8, 6))\n",
    "plt.plot(pred_x['SO4'])\n",
    "\n",
    "# Add labels and title\n",
    "plt.xlabel('Timestep')\n",
    "plt.ylabel('Mass of SO$_4$')\n",
    "#plt.xlim(0,144)\n",
    "plt.title('Predicted SO$_4$ Mass Trajectories Over Time')\n",
    "\n",
    "# Add legend for trajectories\n",
    "plt.plot([], [], color='gray', label='Trajectory for particle $p$')\n",
    "plt.legend(loc='upper left', frameon=True)\n",
    "\n",
    "# Show plot\n",
    "plt.grid(True)\n",
    "plt.savefig(\"predso4rep3.png\")"
   ]
  },
  {
   "cell_type": "code",
   "execution_count": null,
   "id": "6d97eb26-9b82-4cb6-8c11-f51c13d3e501",
   "metadata": {},
   "outputs": [],
   "source": [
    "fig, (ax1, ax2) = plt.subplots(nrows=1, ncols=2, figsize=(14, 6), sharey=True)\n",
    "ax1.plot(true_x['SO4'])\n",
    "ax2.plot(pred_x['SO4'])\n",
    "\n",
    "# Add labels and title\n",
    "ax1.set_xlabel('Timestep')\n",
    "ax2.set_xlabel('Timestep')\n",
    "ax1.set_ylabel('Mass of SO$_4$')\n",
    "\n",
    "ax1.set_title('True SO$_4$ Mass Trajectories Over Time')\n",
    "ax2.set_title('Predicted SO$_4$ Mass Trajectories Over Time')\n",
    "\n",
    "# Add legend for trajectories\n",
    "ax1.plot([], [], color='gray', label='Trajectory for particle $p$')\n",
    "ax1.legend(loc='upper left', frameon=True)\n",
    "\n",
    "# Adjust space between subplots\n",
    "plt.subplots_adjust(wspace=0.01)\n",
    "\n",
    "# Show plot\n",
    "ax1.grid(True)\n",
    "ax2.grid(True)\n",
    "plt.savefig(\"so4rep3.png\")"
   ]
  },
  {
   "cell_type": "code",
   "execution_count": null,
   "id": "76e958a4-e382-419d-8798-5324171f6ad4",
   "metadata": {},
   "outputs": [],
   "source": [
    "ar.nmae(true_x['SO4'], pred_x['SO4'])"
   ]
  },
  {
   "cell_type": "code",
   "execution_count": null,
   "id": "95c3cdc2-6f2e-433a-b3cb-c31328cd55b5",
   "metadata": {},
   "outputs": [],
   "source": [
    "plt.plot(true_x['H2SO4'])\n",
    "plt.show()"
   ]
  },
  {
   "cell_type": "code",
   "execution_count": null,
   "id": "6858096e-814d-47f3-a37d-c192c3cba548",
   "metadata": {},
   "outputs": [],
   "source": [
    "plt.plot(pred_x['H2SO4'])\n",
    "plt.show()"
   ]
  },
  {
   "cell_type": "code",
   "execution_count": null,
   "id": "3974b71a-75f4-4454-acad-d27c7d6b4c18",
   "metadata": {},
   "outputs": [],
   "source": [
    "pred_x['H2SO4'].shape"
   ]
  },
  {
   "cell_type": "code",
   "execution_count": null,
   "id": "30b3558b-a478-4c0c-871f-20c8279c99f8",
   "metadata": {},
   "outputs": [],
   "source": [
    "fig, (ax1, ax2) = plt.subplots(nrows=1, ncols=2, figsize=(14, 6), sharey=True)\n",
    "ax1.plot(true_x['H2SO4'])\n",
    "ax2.plot(pred_x['H2SO4'])\n",
    "\n",
    "# Add labels and title\n",
    "ax1.set_xlabel('Timestep')\n",
    "ax2.set_xlabel('Timestep')\n",
    "ax1.set_ylabel('ppb of H$_2$SO$_4$')\n",
    "\n",
    "ax1.set_title('True H$_2$SO$_4$ ppb Trajectories Over Time')\n",
    "ax2.set_title('Predicted H$_2$SO$_4$ ppb Trajectories Over Time')\n",
    "\n",
    "# Add legend for trajectories\n",
    "ax1.plot([], [], color='gray', label='Trajectory for particle $p$')\n",
    "ax1.legend(loc='upper right', frameon=True)\n",
    "\n",
    "# Adjust space between subplots\n",
    "plt.subplots_adjust(wspace=0.01)\n",
    "\n",
    "# Show plot\n",
    "ax1.grid(True)\n",
    "ax2.grid(True)\n",
    "plt.savefig(\"h2so4rep3.png\")"
   ]
  },
  {
   "cell_type": "code",
   "execution_count": null,
   "id": "e356ada0-d382-4b14-a236-44c07a5dd6e0",
   "metadata": {},
   "outputs": [],
   "source": [
    "ar.nmae(true_x['H2SO4'], pred_x['H2SO4'])"
   ]
  },
  {
   "cell_type": "code",
   "execution_count": null,
   "id": "6416e897-e808-4ca8-8fed-414f996cd509",
   "metadata": {},
   "outputs": [],
   "source": [
    "true_dry_mass = {'BC': mat_prop['BC'], 'OC': mat_prop['OC'], 'SO4': true_x['SO4']}"
   ]
  },
  {
   "cell_type": "code",
   "execution_count": null,
   "id": "0dccfca4-f122-426a-8148-9f64c06a7560",
   "metadata": {},
   "outputs": [],
   "source": [
    "pred_dry_mass = {'BC': mat_prop['BC'], 'OC': mat_prop['OC'], 'SO4': pred_x['SO4']}"
   ]
  },
  {
   "cell_type": "code",
   "execution_count": null,
   "id": "2977702f-7ddd-4d04-a2b0-d82e114ee7bc",
   "metadata": {},
   "outputs": [],
   "source": [
    "so4_diam = ar.gd_from_vol(ar.volume('SO4', true_dry_mass))"
   ]
  },
  {
   "cell_type": "code",
   "execution_count": null,
   "id": "d6f390a8-77b3-42e0-93ba-8880cfe617b8",
   "metadata": {},
   "outputs": [],
   "source": [
    "pred_so4_diam = ar.gd_from_vol(ar.volume('SO4', pred_dry_mass))"
   ]
  },
  {
   "cell_type": "code",
   "execution_count": null,
   "id": "7a28e37b-5f4d-44a1-b0d0-526f83f38278",
   "metadata": {},
   "outputs": [],
   "source": [
    "plt.plot(ar.mass_concentration(true_dry_mass, mat_prop['aero_number'], chem='all'))"
   ]
  },
  {
   "cell_type": "code",
   "execution_count": null,
   "id": "ef39deed-1961-44b8-aed9-d46282175300",
   "metadata": {},
   "outputs": [],
   "source": [
    "plt.plot(ar.mass_concentration(pred_dry_mass, mat_prop['aero_number'], chem='all'))"
   ]
  },
  {
   "cell_type": "code",
   "execution_count": null,
   "id": "a54baeb1-83b6-468f-8063-32978bd73268",
   "metadata": {},
   "outputs": [],
   "source": [
    "fig, (ax1, ax2) = plt.subplots(nrows=1, ncols=2, figsize=(14, 6), sharey=True)\n",
    "ax1.plot(ar.mass_concentration(true_dry_mass, mat_prop['aero_number'], chem='all'))\n",
    "ax2.plot(ar.mass_concentration(pred_dry_mass, mat_prop['aero_number'], chem='all'))\n",
    "\n",
    "# Add labels and title\n",
    "ax1.set_xlabel('Timestep')\n",
    "ax2.set_xlabel('Timestep')\n",
    "ax1.set_ylabel('Total Dry Mass Concentration (kg/m$^3$)')\n",
    "\n",
    "ax1.set_title('True Total Dry Mass Concentration Over Time')\n",
    "ax2.set_title('Predicted Total Dry Mass Concentration Over Time')\n",
    "\n",
    "# Adjust space between subplots\n",
    "plt.subplots_adjust(wspace=0.01)\n",
    "\n",
    "# Show plot\n",
    "ax1.grid(True)\n",
    "ax2.grid(True)\n",
    "plt.savefig(\"dm_conc_rep3.png\")"
   ]
  },
  {
   "cell_type": "code",
   "execution_count": null,
   "id": "bb99d516-faf2-4923-8010-56424ce68f4c",
   "metadata": {},
   "outputs": [],
   "source": [
    "fig, (ax1, ax2) = plt.subplots(nrows=1, ncols=2, figsize=(14, 6), sharey=True)\n",
    "ax1.plot(true_x['H2O'])\n",
    "ax2.plot(pred_x['H2O'])\n",
    "\n",
    "# Add labels and title\n",
    "ax1.set_xlabel('Timestep')\n",
    "ax2.set_xlabel('Timestep')\n",
    "ax1.set_ylabel('Mass of H$_2$O')\n",
    "\n",
    "ax1.set_title('True H$_2$O Mass Trajectories Over Time')\n",
    "ax2.set_title('Predicted H$_2$O Mass Trajectories Over Time')\n",
    "\n",
    "# Add legend for trajectories\n",
    "ax1.plot([], [], color='gray', label='Trajectory for particle $p$')\n",
    "ax1.legend(loc='upper left', frameon=True)\n",
    "\n",
    "# Adjust space between subplots\n",
    "plt.subplots_adjust(wspace=0.01)\n",
    "\n",
    "# Show plot\n",
    "ax1.grid(True)\n",
    "ax2.grid(True)\n",
    "plt.savefig(\"h2orep3.png\")"
   ]
  },
  {
   "cell_type": "code",
   "execution_count": null,
   "id": "e8dedb9a-34af-4931-a484-ff5e1a0f3f1a",
   "metadata": {},
   "outputs": [],
   "source": [
    "ar.nmae(true_x['H2O'], pred_x['H2O'])"
   ]
  },
  {
   "cell_type": "code",
   "execution_count": null,
   "id": "e2f5276f-113c-47ef-9eb4-5e6e61844003",
   "metadata": {},
   "outputs": [],
   "source": [
    "total_true_drymass = sum(true_dry_mass.values())"
   ]
  },
  {
   "cell_type": "code",
   "execution_count": null,
   "id": "2a1f3ad4-4988-47eb-9635-6852779a3bd8",
   "metadata": {},
   "outputs": [],
   "source": [
    "total_pred_drymass = sum(pred_dry_mass.values())"
   ]
  },
  {
   "cell_type": "code",
   "execution_count": null,
   "id": "143d1f9d-89cc-429c-beb7-c51029559b46",
   "metadata": {},
   "outputs": [],
   "source": [
    "fig, ax = plt.subplots()\n",
    "ax.hist(total_pred_drymass[-1,:], bins=50, label=\"Predicted\")\n",
    "ax.hist(total_true_drymass[-1,:], bins=50, alpha=0.5, label=\"True\")\n",
    "# Add labels and title\n",
    "plt.xlabel('Total Dry Mass')\n",
    "plt.ylabel('Frequency')\n",
    "plt.title('Total Dry Mass at Last Timestep')\n",
    "# Add legend\n",
    "plt.legend()\n",
    "plt.savefig(\"dm_hist_rep4.png\")"
   ]
  },
  {
   "cell_type": "code",
   "execution_count": null,
   "id": "6c44ad86-98b8-408f-995a-251b070df0b0",
   "metadata": {},
   "outputs": [],
   "source": [
    "mat_prop['aero_number'].shape"
   ]
  },
  {
   "cell_type": "code",
   "execution_count": null,
   "id": "7456a5de-f64c-4b15-abe9-7cbed7cce384",
   "metadata": {},
   "outputs": [],
   "source": [
    "dNdt = mat_prop['aero_number'][1:,:] - mat_prop['aero_number'][:-1,:]"
   ]
  },
  {
   "cell_type": "code",
   "execution_count": null,
   "id": "489164db-9fec-48ef-a5ea-f636fa7629d9",
   "metadata": {},
   "outputs": [],
   "source": [
    "true_Ddry = ar.gd_from_vol(ar.volume('SO4', true_dry_mass) + ar.volume('BC', true_dry_mass) + ar.volume('OC', true_dry_mass))"
   ]
  },
  {
   "cell_type": "code",
   "execution_count": null,
   "id": "6e9a5e84-dc84-4622-9f43-76ac6618324a",
   "metadata": {},
   "outputs": [],
   "source": [
    "pred_Ddry = ar.gd_from_vol(ar.volume('SO4', pred_dry_mass) + ar.volume('BC', true_dry_mass) + ar.volume('OC', true_dry_mass))"
   ]
  },
  {
   "cell_type": "code",
   "execution_count": null,
   "id": "b1b11a9b-f563-4089-9a55-a2bf5ff01343",
   "metadata": {},
   "outputs": [],
   "source": [
    "true_dDdrydt = true_Ddry[1:,:] - true_Ddry[:-1,:]"
   ]
  },
  {
   "cell_type": "code",
   "execution_count": null,
   "id": "7ef8ab0d-538d-4910-b9a3-c723bf0bb7bb",
   "metadata": {},
   "outputs": [],
   "source": [
    "pred_dDdrydt = pred_Ddry[1:,:] - pred_Ddry[:-1,:]"
   ]
  },
  {
   "cell_type": "code",
   "execution_count": null,
   "id": "e62b7f77-00b2-4b5f-ad31-d25f9df1cc68",
   "metadata": {},
   "outputs": [],
   "source": [
    "plt.plot(dNdt / pred_dDdrydt)\n",
    "plt.show()"
   ]
  },
  {
   "cell_type": "code",
   "execution_count": null,
   "id": "b03adae8-670f-4cb6-a085-cf072a453247",
   "metadata": {},
   "outputs": [],
   "source": [
    "true_gmean, true_gstd = ar.mean_std_diameter(true_dry_mass)\n",
    "pred_gmean, pred_gstd = ar.mean_std_diameter(pred_dry_mass)"
   ]
  },
  {
   "cell_type": "code",
   "execution_count": null,
   "id": "9f63ce8b-9074-46c1-a0c4-d3435e049a3f",
   "metadata": {},
   "outputs": [],
   "source": [
    "diams = np.logspace(-9,-6, true_gmean.shape[0])"
   ]
  },
  {
   "cell_type": "code",
   "execution_count": null,
   "id": "c47b8fe6-af19-40a4-8956-90fcab7a0de9",
   "metadata": {},
   "outputs": [],
   "source": [
    "true_Ddry[-1,:].shape"
   ]
  },
  {
   "cell_type": "code",
   "execution_count": null,
   "id": "0d1cb46b-e700-47f3-905d-cde0c921c501",
   "metadata": {},
   "outputs": [],
   "source": [
    "fig, ax = plt.subplots()\n",
    "ax.hist(pred_Ddry[-1,:], bins=50, label=\"Predicted\")\n",
    "ax.hist(true_Ddry[-1,:], bins=50, alpha=0.5, label=\"True\")\n",
    "# Add labels and title\n",
    "plt.xlabel('Dry Diameter')\n",
    "plt.ylabel('Frequency')\n",
    "plt.title('Dry Diameter Distribution at Last Timestep')\n",
    "# Add legend\n",
    "plt.legend()\n",
    "plt.savefig(\"dd_hist_rep3.png\")"
   ]
  },
  {
   "cell_type": "code",
   "execution_count": null,
   "id": "815d18e1-b14b-43bc-8326-5728b24c9bd5",
   "metadata": {},
   "outputs": [],
   "source": [
    "def lognormal_distro(number_conc, diams, gmeans, gstds):\n",
    "    return ((number_conc / (np.sqrt(2*np.pi) * np.log10(gstds))) * \n",
    "            np.exp(-0.5 * ((np.log10(diams) - np.log10(gmeans))**2 / (2 * np.log10(gstds)**2))))"
   ]
  },
  {
   "cell_type": "code",
   "execution_count": null,
   "id": "35999dbf-fa40-4f78-9e9d-df3f74ddf801",
   "metadata": {},
   "outputs": [],
   "source": [
    "true_nD = lognormal_distro(mat_prop['aero_number'], true_Ddry, true_gmean, true_gstd)\n",
    "pred_nD = lognormal_distro(mat_prop['aero_number'], pred_Ddry, pred_gmean, pred_gstd)"
   ]
  },
  {
   "cell_type": "code",
   "execution_count": null,
   "id": "6f059ce5-b9fa-4146-bc18-efe6a6519bfc",
   "metadata": {},
   "outputs": [],
   "source": [
    "plt.plot(true_Ddry, true_nD)\n",
    "plt.plot(pred_Ddry, pred_nD)\n",
    "plt.show()"
   ]
  },
  {
   "cell_type": "code",
   "execution_count": null,
   "id": "d9ba43f2-3752-4eda-aaea-5c8726d8024c",
   "metadata": {},
   "outputs": [],
   "source": [
    "# for i in range(0, true_drymass.shape[0], 10):\n",
    "#     fig, ax = plt.subplots()\n",
    "#     ax.hist(pred_drymass[i,:], bins=100)\n",
    "#     ax.hist(true_drymass[i,:], bins=100, alpha=0.5)\n",
    "#     plt.savefig(f\"./figures/hists/hist{i}.png\")\n",
    "#     plt.close()"
   ]
  },
  {
   "cell_type": "code",
   "execution_count": null,
   "id": "d5fe1d5a-cd35-4d53-998a-b8653454ea26",
   "metadata": {},
   "outputs": [],
   "source": []
  }
 ],
 "metadata": {
  "kernelspec": {
   "display_name": "Python [conda env:learn]",
   "language": "python",
   "name": "conda-env-learn-py"
  },
  "language_info": {
   "codemirror_mode": {
    "name": "ipython",
    "version": 3
   },
   "file_extension": ".py",
   "mimetype": "text/x-python",
   "name": "python",
   "nbconvert_exporter": "python",
   "pygments_lexer": "ipython3",
   "version": "3.10.8"
  }
 },
 "nbformat": 4,
 "nbformat_minor": 5
}
